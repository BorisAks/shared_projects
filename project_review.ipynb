{
 "cells": [
  {
   "cell_type": "markdown",
   "metadata": {},
   "source": [
    "# Python Project Code Review and Grading"
   ]
  },
  {
   "cell_type": "markdown",
   "metadata": {},
   "source": [
    "### Project Review: Strengths and Improvements"
   ]
  },
  {
   "cell_type": "markdown",
   "metadata": {},
   "source": [
    "#### Strengths"
   ]
  },
  {
   "cell_type": "markdown",
   "metadata": {},
   "source": [
    "1. **Separation of Concerns**: - Each module addresses a specific task, demonstrating a clear separation of concerns. This modularity makes the codebase more readable and maintainable, as each module can be modified independently without affecting the others."
   ]
  },
  {
   "cell_type": "markdown",
   "metadata": {},
   "source": [
    "2. **SQLAlchemy Core Usage for Database Operations**:  - SQLAlchemy Core is effectively used across the project, allowing for structured, secure database operations. For instance, `stock_details.py` uses SQLAlchemy Core to prepare and execute queries securely, minimizing the risk of SQL injection."
   ]
  },
  {
   "cell_type": "markdown",
   "metadata": {},
   "source": [
    "3. **Understanding of `staticmethod` in OOP**:  - The use of `staticmethod` in `stock_details.py` for `validate_inputs` is an appropriate design choice. Since the method only validates inputs and doesn’t rely on any instance or class properties, defining it as a `staticmethod` prevents unnecessary instance creation and reflects a solid grasp of OOP."
   ]
  },
  {
   "cell_type": "markdown",
   "metadata": {},
   "source": [
    "4. **Logging Mechanism**:  - The custom logging mechanism in `demo_logging.py` allows for both file and database logging, which is crucial for tracking errors and system events. While there are some issues with its current design (discussed below), the intent to log key events is well implemented and provides robust traceability for debugging and audits in production systems."
   ]
  },
  {
   "cell_type": "markdown",
   "metadata": {},
   "source": [
    "#### Areas for Improvement"
   ]
  },
  {
   "cell_type": "markdown",
   "metadata": {},
   "source": [
    "1. **Module Consolidation and Redundant Modules**:\n",
    "- **Issue**: Some modules, such as `python_project.py` and `python_project_etl.py`, have redundant code or responsibilities.\n",
    " \n",
    "- **Improvement**: Consolidate smaller, redundant modules into larger, reusable ones (e.g., `utils.py` or `db_setup.py`) to simplify the codebase and improve maintainability."
   ]
  },
  {
   "cell_type": "markdown",
   "metadata": {},
   "source": [
    "2. **Configuration and Sensitive Data Management**:  \n",
    "\n",
    "- **Issue**: Database credentials, file paths, and other configurations are hardcoded within the files, which is a security risk and hinders collaboration.\n",
    "\n",
    "- **Improvement**: Store sensitive data like database credentials in a `.env` file and provide a sample `.env.example` for other collaborators to set up their environment securely."
   ]
  },
  {
   "cell_type": "markdown",
   "metadata": {},
   "source": [
    "3. **Logging and Error Handling in `python_project_etl.py`**:\n",
    "- **Issue**: The `python_project_etl.py` module sets up logging with SQLAlchemy ORM, which introduces unnecessary complexity and overhead, and logs are managed with `print()` statements in `stocks_stats.py`.\n",
    "\n",
    "- **Improvement**: Move logging to a shared module using SQLAlchemy Core or `mysql.connector` for efficiency and consistency, and replace `print()` statements with logging to provide structured, searchable logs across all modules."
   ]
  },
  {
   "cell_type": "markdown",
   "metadata": {},
   "source": [
    "4. **Use of CTEs in `stocks_stats.py`**:\n",
    "  \n",
    "- **Issue**: The multiple nested CTEs add unnecessary complexity and may reduce query performance. Calculating basic statistics can be achieved more efficiently using aggregate functions and basic arithmetic without over-relying on CTEs.\n",
    "\n",
    "- **Improvement**: Simplify the logic by querying directly with aggregates, reducing execution time and complexity."
   ]
  },
  {
   "cell_type": "code",
   "execution_count": null,
   "metadata": {},
   "outputs": [],
   "source": [
    "from sqlalchemy import select, func, and_\n",
    "\n",
    "# Define table metadata for the stock_rates table\n",
    "stock_rates = Table('stock_rates', metadata, autoload_with=engine)\n",
    "\n",
    "# Simplified query with yield calculation\n",
    "query = (\n",
    "    select(\n",
    "        stock_rates.c.Symbol,\n",
    "        func.max(stock_rates.c.High).label(\"MaxRate\"),\n",
    "        func.min(stock_rates.c.Low).label(\"MinRate\"),\n",
    "        func.avg(stock_rates.c.Close).label(\"AvgRate\"),\n",
    "        ((func.max(stock_rates.c.Close) - func.min(stock_rates.c.Close)) / func.min(stock_rates.c.Close) * 100).label(\"Yield\")\n",
    "    )\n",
    "    .where(and_(stock_rates.c.Date >= start_date, stock_rates.c.Date <= end_date))\n",
    "    .group_by(stock_rates.c.Symbol)\n",
    ")\n",
    "\n",
    "# Execute query\n",
    "result = engine.execute(query)\n",
    "for row in result:\n",
    "    print(row)"
   ]
  },
  {
   "cell_type": "markdown",
   "metadata": {},
   "source": [
    "5. **Empty Exception Class**:  \n",
    "\n",
    "- **Issue**: The `InvalidInputError` exception class in `stock_details.py` currently only contains a `pass` statement, making it functionally identical to a general `Exception`. This provides no additional debugging information or specialized handling.\n",
    "\n",
    "- **Improvement**: Enhance the `InvalidInputError` by logging parsed error details to a database when the exception is raised. This will allow for easier tracking of invalid input patterns."
   ]
  },
  {
   "cell_type": "code",
   "execution_count": null,
   "metadata": {},
   "outputs": [],
   "source": [
    "from logger_setup import logger  # Assuming logger is set up in logger_setup\n",
    "from sqlalchemy.exc import SQLAlchemyError\n",
    "\n",
    "# Custom InvalidInputError with logging functionality\n",
    "class InvalidInputError(Exception):\n",
    "    def __init__(self, message=\"Invalid input provided\", details=None):\n",
    "        super().__init__(message)\n",
    "        self.details = details\n",
    "        self.log_error()\n",
    "\n",
    "    def log_error(self):\n",
    "        \"\"\"Log error details to the database using an external logger\"\"\"\n",
    "        try:\n",
    "            # Log structured error message with context details\n",
    "            logger.error(\n",
    "                f\"InvalidInputError: {self.details.get('error_msg', 'Invalid input encountered')}\",\n",
    "                extra={\"context\": self.details.get(\"context\", \"N/A\")}\n",
    "            )\n",
    "        except SQLAlchemyError as e:\n",
    "            logger.error(f\"Logging failed: {e}\")"
   ]
  },
  {
   "cell_type": "markdown",
   "metadata": {},
   "source": [
    "#### Usage in `validate_inputs` Method"
   ]
  },
  {
   "cell_type": "code",
   "execution_count": null,
   "metadata": {},
   "outputs": [],
   "source": [
    "@staticmethod\n",
    "def validate_inputs(symbol: str, start_date: str, end_date: str):\n",
    "    if not symbol or not isinstance(symbol, str):\n",
    "        raise InvalidInputError(details={\"error_msg\": \"Symbol is invalid\", \"context\": f\"Symbol: {symbol}\"})\n",
    "    # Additional validation logic..."
   ]
  },
  {
   "cell_type": "markdown",
   "metadata": {},
   "source": [
    "6. **Generic Exception Handling in `stocks_stats.py`**:\n",
    "\n",
    "- **Issue**: The exception handling in `stocks_stats.py` uses `except Exception as e`, which is overly generic. This does not add value to the debugging process, and printing tracebacks directly isn’t best practice.\n",
    "\n",
    "- **Improvement**: Implement specific exception handling, such as `SQLAlchemyError` or `ValueError`, to provide clearer error feedback. Avoid printing full tracebacks and instead log errors for a structured record."
   ]
  },
  {
   "cell_type": "markdown",
   "metadata": {},
   "source": [
    "7. **No Upsert Logic in ETL Process**:\n",
    "\n",
    "- **Issue**: The `python_project_etl.py` file lacks upsert logic, so duplicate data may be inserted during the ETL process.\n",
    "\n",
    "- **Improvement**: Implement an upsert mechanism to avoid duplicates."
   ]
  },
  {
   "cell_type": "markdown",
   "metadata": {},
   "source": [
    "1) **Example (Custom SQLAlchemy on_duplicate_key_update Method - [*StackOverflow*](https://stackoverflow.com/questions/42461959/how-do-i-perform-an-update-of-existing-rows-of-a-db-table-using-a-pandas-datafra))**:\n",
    "```python\n",
    "    def create_method(meta):\n",
    "        def method(table, conn, keys, data_iter):\n",
    "            sql_table = db.Table(table.name, meta, autoload=True)\n",
    "            insert_stmt = db.dialects.mysql.insert(sql_table).values([dict(zip(keys, data)) for data in data_iter])\n",
    "            upsert_stmt = insert_stmt.on_duplicate_key_update({x.name: x for x in insert_stmt.inserted})\n",
    "            conn.execute(upsert_stmt)\n",
    "\n",
    "        return method\n",
    "\n",
    "    engine = db.create_engine(...)\n",
    "    conn = engine.connect()\n",
    "    with conn.begin():\n",
    "        meta = db.MetaData(conn)\n",
    "        method = create_method(meta)\n",
    "        df.to_sql(table_name, conn, if_exists='append', method=method)\n",
    "```\n",
    "2) **You can consider Using a custom lib like - [*pandas-upsert-to-mysql*](https://pypi.org/project/pandas-upsert-to-mysql/)**\n",
    "\n",
    "3) **MySQL `ON DUPLICATE KEY UPDATE`**:\n",
    "```sql\n",
    "INSERT INTO stock_history (symbol, date, open, close)\n",
    "VALUES (:symbol, :date, :open, :close)\n",
    "ON DUPLICATE KEY UPDATE\n",
    "  open = VALUES(open),\n",
    "  close = VALUES(close);\n",
    "```\n",
    "\n",
    "- **Conclusion**: The ETL process works well, but adding upsert functionality would handle duplicate records more effectively. No points deducted for this step."
   ]
  },
  {
   "cell_type": "markdown",
   "metadata": {},
   "source": [
    "8. **Lack of `main.py` to Coordinate Modules**\n",
    "\n",
    "- **Issue**: Currently, there is no main module that coordinates the operations across all modules, which makes it harder to execute end-to-end tasks from a single entry point.\n",
    "\n",
    "- **Improvement**: Create a `main.py` file that initializes configuration, sets up logging, and calls the various functions and classes for stock details, statistics, and ETL processes. This provides a single entry point, improving usability."
   ]
  },
  {
   "cell_type": "code",
   "execution_count": null,
   "metadata": {},
   "outputs": [],
   "source": [
    "from stock_details import get_stock_details\n",
    "from stocks_stats import get_stocks_stats\n",
    "from python_project_etl import run_etl_process\n",
    "\n",
    "def main():\n",
    "    # Set up logging and configuration\n",
    "\n",
    "    # Run ETL process\n",
    "    run_etl_process()\n",
    "\n",
    "    # Fetch stock details\n",
    "    get_stock_details('MSFT', '2023-01-01', '2023-02-01')\n",
    "\n",
    "    # Fetch stock statistics\n",
    "    get_stocks_stats(['AAPL', 'MSFT'], '2023-01-01', '2023-02-01')\n",
    "\n",
    "if __name__ == \"__main__\":\n",
    "    main()"
   ]
  },
  {
   "cell_type": "markdown",
   "metadata": {},
   "source": [
    "### Grading Table\n",
    "| Area of Improvement                            | Points Deducted |\n",
    "|------------------------------------------------|-----------------|\n",
    "| Module Consolidation and Redundant Code        | 2               |\n",
    "| Hardcoded Configurations and Sensitive Data    | 2               |\n",
    "| Unnecessary Complexity in Logging              | 2               |\n",
    "| Over-Engineered CTE Logic making stock_stats.py code more complex and long                    | 2               |\n",
    "| Generic Exception Handling (in 1 module) and Empty Exception Class | 2               |\n",
    "\n",
    "**Total Points Deducted: 10**\n",
    "\n",
    "### Final Grade: 90/100"
   ]
  }
 ],
 "metadata": {
  "language_info": {
   "name": "python"
  }
 },
 "nbformat": 4,
 "nbformat_minor": 2
}
